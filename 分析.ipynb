{
 "cells": [
  {
   "cell_type": "code",
   "execution_count": 1,
   "id": "c424b114-888d-4f00-8d38-b41c2897d631",
   "metadata": {
    "tags": []
   },
   "outputs": [
    {
     "ename": "SyntaxError",
     "evalue": "invalid syntax (1079759473.py, line 1)",
     "output_type": "error",
     "traceback": [
      "\u001b[1;36m  Cell \u001b[1;32mIn[1], line 1\u001b[1;36m\u001b[0m\n\u001b[1;33m    easy                 medium               hard                 extra\u001b[0m\n\u001b[1;37m                         ^\u001b[0m\n\u001b[1;31mSyntaxError\u001b[0m\u001b[1;31m:\u001b[0m invalid syntax\n"
     ]
    }
   ],
   "source": [
    "easy                 medium               hard                 extra               \n",
    "gpt3.5 \n",
    "0.565                0.205                0.105                0.050\n",
    "gpt4\n",
    "0.600                0.232                0.064                0.000\n",
    "CodeLlama\n",
    "0.293                0.072                0.055                0.009\n",
    "CodeLlama SFT\n",
    "0.760                0.519                0.393                0.215\n",
    "SQLcoder\n",
    "0.017                0.000                0.000                0.000\n",
    "SQLcoder SFT\n",
    "0.717                0.328                0.307                0.103\n",
    "\n",
    "turn 1               turn 2               turn 3               turn 4               turn >4 \n",
    "gpt3.5 \n",
    "0.353                0.352                0.284                0.311                0.224\n",
    "gpt4\n",
    "0.364                0.329                0.311                0.362                0.278\n",
    "CodeLlama\n",
    "0.317                0.133                0.070                0.053                0.014\n",
    "CodeLlama SFT\n",
    "0.666                0.572                0.525                0.474                0.423\n",
    "SQLcoder\n",
    "0.007                0.007                0.008                0.009                0.000\n",
    "SQLcoder SFT\n",
    "0.532                0.460                0.439                0.412                0.338"
   ]
  }
 ],
 "metadata": {
  "kernelspec": {
   "display_name": "Python 3 (ipykernel)",
   "language": "python",
   "name": "python3"
  },
  "language_info": {
   "codemirror_mode": {
    "name": "ipython",
    "version": 3
   },
   "file_extension": ".py",
   "mimetype": "text/x-python",
   "name": "python",
   "nbconvert_exporter": "python",
   "pygments_lexer": "ipython3",
   "version": "3.11.9"
  }
 },
 "nbformat": 4,
 "nbformat_minor": 5
}
